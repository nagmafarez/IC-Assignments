{
  "cells": [
    {
      "cell_type": "markdown",
      "metadata": {
        "id": "rkIyITRU4lLE"
      },
      "source": [
        "# 1. Setup and Data Preparation"
      ]
    },
    {
      "cell_type": "code",
      "execution_count": null,
      "metadata": {
        "colab": {
          "base_uri": "https://localhost:8080/"
        },
        "id": "-YkrzhOx4gLw",
        "outputId": "d9f1c377-9027-43e9-cba1-a6eb210587cf"
      },
      "outputs": [
        {
          "name": "stdout",
          "output_type": "stream",
          "text": [
            "Requirement already satisfied: scikit-learn in /usr/local/lib/python3.11/dist-packages (1.7.0)\n",
            "Requirement already satisfied: gensim in /usr/local/lib/python3.11/dist-packages (4.3.3)\n",
            "Requirement already satisfied: nltk in /usr/local/lib/python3.11/dist-packages (3.9.1)\n",
            "Requirement already satisfied: numpy>=1.22.0 in /usr/local/lib/python3.11/dist-packages (from scikit-learn) (1.26.4)\n",
            "Requirement already satisfied: scipy>=1.8.0 in /usr/local/lib/python3.11/dist-packages (from scikit-learn) (1.13.1)\n",
            "Requirement already satisfied: joblib>=1.2.0 in /usr/local/lib/python3.11/dist-packages (from scikit-learn) (1.5.1)\n",
            "Requirement already satisfied: threadpoolctl>=3.1.0 in /usr/local/lib/python3.11/dist-packages (from scikit-learn) (3.6.0)\n",
            "Requirement already satisfied: smart-open>=1.8.1 in /usr/local/lib/python3.11/dist-packages (from gensim) (7.3.0)\n",
            "Requirement already satisfied: click in /usr/local/lib/python3.11/dist-packages (from nltk) (8.2.1)\n",
            "Requirement already satisfied: regex>=2021.8.3 in /usr/local/lib/python3.11/dist-packages (from nltk) (2024.11.6)\n",
            "Requirement already satisfied: tqdm in /usr/local/lib/python3.11/dist-packages (from nltk) (4.67.1)\n",
            "Requirement already satisfied: wrapt in /usr/local/lib/python3.11/dist-packages (from smart-open>=1.8.1->gensim) (1.17.2)\n"
          ]
        }
      ],
      "source": [
        "# Install necessary libraries (if not already installed in Colab)\n",
        "!pip install -U scikit-learn gensim nltk"
      ]
    },
    {
      "cell_type": "code",
      "execution_count": 1,
      "metadata": {
        "id": "cIYO7xz_4j_2"
      },
      "outputs": [],
      "source": [
        "# Importing necessary libraries\n",
        "import pandas as pd\n",
        "import numpy as np\n",
        "import nltk\n",
        "from sklearn.feature_extraction.text import CountVectorizer, TfidfVectorizer\n",
        "from sklearn.decomposition import TruncatedSVD\n",
        "from sklearn.manifold import TSNE\n",
        "import gensim\n",
        "from gensim.models import Word2Vec, FastText\n",
        "import matplotlib.pyplot as plt\n",
        "import seaborn as sns"
      ]
    },
    {
      "cell_type": "code",
      "execution_count": 2,
      "metadata": {
        "colab": {
          "base_uri": "https://localhost:8080/"
        },
        "id": "1QEaXvAG4kC7",
        "outputId": "19ba6d83-d1ce-45d4-e7bf-ce09d5aa26e9"
      },
      "outputs": [
        {
          "output_type": "stream",
          "name": "stderr",
          "text": [
            "[nltk_data] Downloading package punkt_tab to /root/nltk_data...\n",
            "[nltk_data]   Unzipping tokenizers/punkt_tab.zip.\n",
            "[nltk_data] Downloading package stopwords to /root/nltk_data...\n",
            "[nltk_data]   Unzipping corpora/stopwords.zip.\n"
          ]
        },
        {
          "output_type": "execute_result",
          "data": {
            "text/plain": [
              "True"
            ]
          },
          "metadata": {},
          "execution_count": 2
        }
      ],
      "source": [
        "#Download required nltk data\n",
        "nltk.download('punkt_tab')\n",
        "nltk.download('stopwords')"
      ]
    },
    {
      "cell_type": "code",
      "execution_count": 4,
      "metadata": {
        "id": "C4AlT1b54kFa"
      },
      "outputs": [],
      "source": [
        "#Loading the dataset\n",
        "df = pd.read_csv('/content/data.csv')"
      ]
    },
    {
      "cell_type": "code",
      "execution_count": null,
      "metadata": {
        "colab": {
          "base_uri": "https://localhost:8080/",
          "height": 206
        },
        "id": "puvkFt_74kIR",
        "outputId": "a1be54f2-2d5f-4767-ce2d-db2a42cc66f0"
      },
      "outputs": [
        {
          "data": {
            "application/vnd.google.colaboratory.intrinsic+json": {
              "summary": "{\n  \"name\": \"df\",\n  \"rows\": 1000,\n  \"fields\": [\n    {\n      \"column\": \"id\",\n      \"properties\": {\n        \"dtype\": \"number\",\n        \"std\": null,\n        \"min\": null,\n        \"max\": null,\n        \"num_unique_values\": 0,\n        \"samples\": [],\n        \"semantic_type\": \"\",\n        \"description\": \"\"\n      }\n    },\n    {\n      \"column\": \"Review\",\n      \"properties\": {\n        \"dtype\": \"string\",\n        \"num_unique_values\": 996,\n        \"samples\": [],\n        \"semantic_type\": \"\",\n        \"description\": \"\"\n      }\n    },\n    {\n      \"column\": \"Liked\",\n      \"properties\": {\n        \"dtype\": \"number\",\n        \"std\": 0,\n        \"min\": 0,\n        \"max\": 1,\n        \"num_unique_values\": 2,\n        \"samples\": [],\n        \"semantic_type\": \"\",\n        \"description\": \"\"\n      }\n    }\n  ]\n}",
              "type": "dataframe",
              "variable_name": "df"
            },
            "text/html": [
              "\n",
              "  <div id=\"df-8693b36e-5333-41f7-b931-3b96c2f73bb5\" class=\"colab-df-container\">\n",
              "    <div>\n",
              "<style scoped>\n",
              "    .dataframe tbody tr th:only-of-type {\n",
              "        vertical-align: middle;\n",
              "    }\n",
              "\n",
              "    .dataframe tbody tr th {\n",
              "        vertical-align: top;\n",
              "    }\n",
              "\n",
              "    .dataframe thead th {\n",
              "        text-align: right;\n",
              "    }\n",
              "</style>\n",
              "<table border=\"1\" class=\"dataframe\">\n",
              "  <thead>\n",
              "    <tr style=\"text-align: right;\">\n",
              "      <th></th>\n",
              "      <th>id</th>\n",
              "      <th>Review</th>\n",
              "      <th>Liked</th>\n",
              "    </tr>\n",
              "  </thead>\n",
              "  <tbody>\n",
              "    <tr>\n",
              "      <th>0</th>\n",
              "      <td>NaN</td>\n",
              "      <td>Wow... Loved this place.</td>\n",
              "      <td>1</td>\n",
              "    </tr>\n",
              "    <tr>\n",
              "      <th>1</th>\n",
              "      <td>NaN</td>\n",
              "      <td>Crust is not good.</td>\n",
              "      <td>0</td>\n",
              "    </tr>\n",
              "    <tr>\n",
              "      <th>2</th>\n",
              "      <td>NaN</td>\n",
              "      <td>Not tasty and the texture was just nasty.</td>\n",
              "      <td>0</td>\n",
              "    </tr>\n",
              "    <tr>\n",
              "      <th>3</th>\n",
              "      <td>NaN</td>\n",
              "      <td>Stopped by during the late May bank holiday of...</td>\n",
              "      <td>1</td>\n",
              "    </tr>\n",
              "    <tr>\n",
              "      <th>4</th>\n",
              "      <td>NaN</td>\n",
              "      <td>The selection on the menu was great and so wer...</td>\n",
              "      <td>1</td>\n",
              "    </tr>\n",
              "  </tbody>\n",
              "</table>\n",
              "</div>\n",
              "    <div class=\"colab-df-buttons\">\n",
              "\n",
              "  <div class=\"colab-df-container\">\n",
              "    <button class=\"colab-df-convert\" onclick=\"convertToInteractive('df-8693b36e-5333-41f7-b931-3b96c2f73bb5')\"\n",
              "            title=\"Convert this dataframe to an interactive table.\"\n",
              "            style=\"display:none;\">\n",
              "\n",
              "  <svg xmlns=\"http://www.w3.org/2000/svg\" height=\"24px\" viewBox=\"0 -960 960 960\">\n",
              "    <path d=\"M120-120v-720h720v720H120Zm60-500h600v-160H180v160Zm220 220h160v-160H400v160Zm0 220h160v-160H400v160ZM180-400h160v-160H180v160Zm440 0h160v-160H620v160ZM180-180h160v-160H180v160Zm440 0h160v-160H620v160Z\"/>\n",
              "  </svg>\n",
              "    </button>\n",
              "\n",
              "  <style>\n",
              "    .colab-df-container {\n",
              "      display:flex;\n",
              "      gap: 12px;\n",
              "    }\n",
              "\n",
              "    .colab-df-convert {\n",
              "      background-color: #E8F0FE;\n",
              "      border: none;\n",
              "      border-radius: 50%;\n",
              "      cursor: pointer;\n",
              "      display: none;\n",
              "      fill: #1967D2;\n",
              "      height: 32px;\n",
              "      padding: 0 0 0 0;\n",
              "      width: 32px;\n",
              "    }\n",
              "\n",
              "    .colab-df-convert:hover {\n",
              "      background-color: #E2EBFA;\n",
              "      box-shadow: 0px 1px 2px rgba(60, 64, 67, 0.3), 0px 1px 3px 1px rgba(60, 64, 67, 0.15);\n",
              "      fill: #174EA6;\n",
              "    }\n",
              "\n",
              "    .colab-df-buttons div {\n",
              "      margin-bottom: 4px;\n",
              "    }\n",
              "\n",
              "    [theme=dark] .colab-df-convert {\n",
              "      background-color: #3B4455;\n",
              "      fill: #D2E3FC;\n",
              "    }\n",
              "\n",
              "    [theme=dark] .colab-df-convert:hover {\n",
              "      background-color: #434B5C;\n",
              "      box-shadow: 0px 1px 3px 1px rgba(0, 0, 0, 0.15);\n",
              "      filter: drop-shadow(0px 1px 2px rgba(0, 0, 0, 0.3));\n",
              "      fill: #FFFFFF;\n",
              "    }\n",
              "  </style>\n",
              "\n",
              "    <script>\n",
              "      const buttonEl =\n",
              "        document.querySelector('#df-8693b36e-5333-41f7-b931-3b96c2f73bb5 button.colab-df-convert');\n",
              "      buttonEl.style.display =\n",
              "        google.colab.kernel.accessAllowed ? 'block' : 'none';\n",
              "\n",
              "      async function convertToInteractive(key) {\n",
              "        const element = document.querySelector('#df-8693b36e-5333-41f7-b931-3b96c2f73bb5');\n",
              "        const dataTable =\n",
              "          await google.colab.kernel.invokeFunction('convertToInteractive',\n",
              "                                                    [key], {});\n",
              "        if (!dataTable) return;\n",
              "\n",
              "        const docLinkHtml = 'Like what you see? Visit the ' +\n",
              "          '<a target=\"_blank\" href=https://colab.research.google.com/notebooks/data_table.ipynb>data table notebook</a>'\n",
              "          + ' to learn more about interactive tables.';\n",
              "        element.innerHTML = '';\n",
              "        dataTable['output_type'] = 'display_data';\n",
              "        await google.colab.output.renderOutput(dataTable, element);\n",
              "        const docLink = document.createElement('div');\n",
              "        docLink.innerHTML = docLinkHtml;\n",
              "        element.appendChild(docLink);\n",
              "      }\n",
              "    </script>\n",
              "  </div>\n",
              "\n",
              "\n",
              "    <div id=\"df-f5bb2c2f-332e-437a-8c6b-8417b5daf6e9\">\n",
              "      <button class=\"colab-df-quickchart\" onclick=\"quickchart('df-f5bb2c2f-332e-437a-8c6b-8417b5daf6e9')\"\n",
              "                title=\"Suggest charts\"\n",
              "                style=\"display:none;\">\n",
              "\n",
              "<svg xmlns=\"http://www.w3.org/2000/svg\" height=\"24px\"viewBox=\"0 0 24 24\"\n",
              "     width=\"24px\">\n",
              "    <g>\n",
              "        <path d=\"M19 3H5c-1.1 0-2 .9-2 2v14c0 1.1.9 2 2 2h14c1.1 0 2-.9 2-2V5c0-1.1-.9-2-2-2zM9 17H7v-7h2v7zm4 0h-2V7h2v10zm4 0h-2v-4h2v4z\"/>\n",
              "    </g>\n",
              "</svg>\n",
              "      </button>\n",
              "\n",
              "<style>\n",
              "  .colab-df-quickchart {\n",
              "      --bg-color: #E8F0FE;\n",
              "      --fill-color: #1967D2;\n",
              "      --hover-bg-color: #E2EBFA;\n",
              "      --hover-fill-color: #174EA6;\n",
              "      --disabled-fill-color: #AAA;\n",
              "      --disabled-bg-color: #DDD;\n",
              "  }\n",
              "\n",
              "  [theme=dark] .colab-df-quickchart {\n",
              "      --bg-color: #3B4455;\n",
              "      --fill-color: #D2E3FC;\n",
              "      --hover-bg-color: #434B5C;\n",
              "      --hover-fill-color: #FFFFFF;\n",
              "      --disabled-bg-color: #3B4455;\n",
              "      --disabled-fill-color: #666;\n",
              "  }\n",
              "\n",
              "  .colab-df-quickchart {\n",
              "    background-color: var(--bg-color);\n",
              "    border: none;\n",
              "    border-radius: 50%;\n",
              "    cursor: pointer;\n",
              "    display: none;\n",
              "    fill: var(--fill-color);\n",
              "    height: 32px;\n",
              "    padding: 0;\n",
              "    width: 32px;\n",
              "  }\n",
              "\n",
              "  .colab-df-quickchart:hover {\n",
              "    background-color: var(--hover-bg-color);\n",
              "    box-shadow: 0 1px 2px rgba(60, 64, 67, 0.3), 0 1px 3px 1px rgba(60, 64, 67, 0.15);\n",
              "    fill: var(--button-hover-fill-color);\n",
              "  }\n",
              "\n",
              "  .colab-df-quickchart-complete:disabled,\n",
              "  .colab-df-quickchart-complete:disabled:hover {\n",
              "    background-color: var(--disabled-bg-color);\n",
              "    fill: var(--disabled-fill-color);\n",
              "    box-shadow: none;\n",
              "  }\n",
              "\n",
              "  .colab-df-spinner {\n",
              "    border: 2px solid var(--fill-color);\n",
              "    border-color: transparent;\n",
              "    border-bottom-color: var(--fill-color);\n",
              "    animation:\n",
              "      spin 1s steps(1) infinite;\n",
              "  }\n",
              "\n",
              "  @keyframes spin {\n",
              "    0% {\n",
              "      border-color: transparent;\n",
              "      border-bottom-color: var(--fill-color);\n",
              "      border-left-color: var(--fill-color);\n",
              "    }\n",
              "    20% {\n",
              "      border-color: transparent;\n",
              "      border-left-color: var(--fill-color);\n",
              "      border-top-color: var(--fill-color);\n",
              "    }\n",
              "    30% {\n",
              "      border-color: transparent;\n",
              "      border-left-color: var(--fill-color);\n",
              "      border-top-color: var(--fill-color);\n",
              "      border-right-color: var(--fill-color);\n",
              "    }\n",
              "    40% {\n",
              "      border-color: transparent;\n",
              "      border-right-color: var(--fill-color);\n",
              "      border-top-color: var(--fill-color);\n",
              "    }\n",
              "    60% {\n",
              "      border-color: transparent;\n",
              "      border-right-color: var(--fill-color);\n",
              "    }\n",
              "    80% {\n",
              "      border-color: transparent;\n",
              "      border-right-color: var(--fill-color);\n",
              "      border-bottom-color: var(--fill-color);\n",
              "    }\n",
              "    90% {\n",
              "      border-color: transparent;\n",
              "      border-bottom-color: var(--fill-color);\n",
              "    }\n",
              "  }\n",
              "</style>\n",
              "\n",
              "      <script>\n",
              "        async function quickchart(key) {\n",
              "          const quickchartButtonEl =\n",
              "            document.querySelector('#' + key + ' button');\n",
              "          quickchartButtonEl.disabled = true;  // To prevent multiple clicks.\n",
              "          quickchartButtonEl.classList.add('colab-df-spinner');\n",
              "          try {\n",
              "            const charts = await google.colab.kernel.invokeFunction(\n",
              "                'suggestCharts', [key], {});\n",
              "          } catch (error) {\n",
              "            console.error('Error during call to suggestCharts:', error);\n",
              "          }\n",
              "          quickchartButtonEl.classList.remove('colab-df-spinner');\n",
              "          quickchartButtonEl.classList.add('colab-df-quickchart-complete');\n",
              "        }\n",
              "        (() => {\n",
              "          let quickchartButtonEl =\n",
              "            document.querySelector('#df-f5bb2c2f-332e-437a-8c6b-8417b5daf6e9 button');\n",
              "          quickchartButtonEl.style.display =\n",
              "            google.colab.kernel.accessAllowed ? 'block' : 'none';\n",
              "        })();\n",
              "      </script>\n",
              "    </div>\n",
              "\n",
              "    </div>\n",
              "  </div>\n"
            ],
            "text/plain": [
              "   id                                             Review  Liked\n",
              "0 NaN                           Wow... Loved this place.      1\n",
              "1 NaN                                 Crust is not good.      0\n",
              "2 NaN          Not tasty and the texture was just nasty.      0\n",
              "3 NaN  Stopped by during the late May bank holiday of...      1\n",
              "4 NaN  The selection on the menu was great and so wer...      1"
            ]
          },
          "execution_count": 5,
          "metadata": {},
          "output_type": "execute_result"
        }
      ],
      "source": [
        "df.head()"
      ]
    },
    {
      "cell_type": "code",
      "execution_count": 5,
      "metadata": {
        "id": "m53flEQ-4kK2"
      },
      "outputs": [],
      "source": [
        "texts = df['Review']"
      ]
    },
    {
      "cell_type": "markdown",
      "metadata": {
        "id": "EFcPR7nE5RXW"
      },
      "source": [
        "# 2. Data Preprocessing"
      ]
    },
    {
      "cell_type": "code",
      "execution_count": 6,
      "metadata": {
        "id": "dBtSsJpj5SZT"
      },
      "outputs": [],
      "source": [
        "# Text preprocessing: tokenization, stop-word removal, etc.\n",
        "from nltk.corpus import stopwords\n",
        "from nltk.tokenize import word_tokenize\n",
        "import re\n",
        "\n",
        "stop_words = set(stopwords.words('english'))\n",
        "\n",
        "def preprocess_text(text):\n",
        "    # Convert to lowercase\n",
        "    text = text.lower()\n",
        "    # Remove non-alphabetic characters\n",
        "    text = re.sub(r'[^a-z\\s]', '', text)\n",
        "    # Tokenize the text\n",
        "    tokens = word_tokenize(text)\n",
        "    # Remove stop words\n",
        "    tokens = [word for word in tokens if word not in stop_words]\n",
        "    return tokens\n",
        "\n",
        "# Apply preprocessing to each text\n",
        "processed_texts = texts.apply(preprocess_text)"
      ]
    },
    {
      "cell_type": "markdown",
      "metadata": {
        "id": "LSPiiG0P5ej2"
      },
      "source": [
        "# 3. Bag of Words (BoW)"
      ]
    },
    {
      "cell_type": "code",
      "execution_count": 7,
      "metadata": {
        "colab": {
          "base_uri": "https://localhost:8080/"
        },
        "id": "gHtvT7Eq5TG9",
        "outputId": "5a4db4c3-2948-416d-cbf5-3c23ae8c0260"
      },
      "outputs": [
        {
          "output_type": "stream",
          "name": "stderr",
          "text": [
            "/usr/local/lib/python3.11/dist-packages/sklearn/feature_extraction/text.py:517: UserWarning: The parameter 'token_pattern' will not be used since 'tokenizer' is not None'\n",
            "  warnings.warn(\n"
          ]
        }
      ],
      "source": [
        "# Create a BoW representation using CountVectorizer\n",
        "vectorizer = CountVectorizer(analyzer='word', tokenizer=lambda doc: doc, lowercase=False)\n",
        "X_bow = vectorizer.fit_transform(processed_texts)"
      ]
    },
    {
      "cell_type": "code",
      "execution_count": 8,
      "metadata": {
        "id": "vfF8Bqcz5TE2"
      },
      "outputs": [],
      "source": [
        "# Convert the matrix to a DataFrame to inspect it\n",
        "bow_df = pd.DataFrame(X_bow.toarray(), columns=vectorizer.get_feature_names_out())"
      ]
    },
    {
      "cell_type": "code",
      "execution_count": 9,
      "metadata": {
        "colab": {
          "base_uri": "https://localhost:8080/"
        },
        "id": "6se7Xx7d5TCK",
        "outputId": "649d7ae5-7452-4e46-ebea-552178046fb6"
      },
      "outputs": [
        {
          "output_type": "stream",
          "name": "stdout",
          "text": [
            "   absolute  absolutely  absolutley  accident  accommodations  accomodate  \\\n",
            "0         0           0           0         0               0           0   \n",
            "1         0           0           0         0               0           0   \n",
            "2         0           0           0         0               0           0   \n",
            "3         0           0           0         0               0           0   \n",
            "4         0           0           0         0               0           0   \n",
            "\n",
            "   accordingly  accountant  ache  acknowledged  ...  yelpers  yet  youd  \\\n",
            "0            0           0     0             0  ...        0    0     0   \n",
            "1            0           0     0             0  ...        0    0     0   \n",
            "2            0           0     0             0  ...        0    0     0   \n",
            "3            0           0     0             0  ...        0    0     0   \n",
            "4            0           0     0             0  ...        0    0     0   \n",
            "\n",
            "   youll  youre  yucky  yukon  yum  yummy  zero  \n",
            "0      0      0      0      0    0      0     0  \n",
            "1      0      0      0      0    0      0     0  \n",
            "2      0      0      0      0    0      0     0  \n",
            "3      0      0      0      0    0      0     0  \n",
            "4      0      0      0      0    0      0     0  \n",
            "\n",
            "[5 rows x 1935 columns]\n"
          ]
        }
      ],
      "source": [
        "# Inspect the first few rows of the BoW matrix\n",
        "print(bow_df.head())"
      ]
    },
    {
      "cell_type": "code",
      "execution_count": 10,
      "metadata": {
        "id": "68KaiQFMs2QE"
      },
      "outputs": [],
      "source": [
        "# Visualize the word frequencies\n",
        "word_freq = np.array(X_bow.sum(axis=0)).flatten()\n",
        "words = vectorizer.get_feature_names_out()"
      ]
    },
    {
      "cell_type": "code",
      "execution_count": 11,
      "metadata": {
        "colab": {
          "base_uri": "https://localhost:8080/",
          "height": 503
        },
        "id": "hhXoGPRg5S8v",
        "outputId": "04014e94-c50d-4fee-ffaa-23d905107830"
      },
      "outputs": [
        {
          "output_type": "display_data",
          "data": {
            "text/plain": [
              "<Figure size 640x480 with 1 Axes>"
            ],
            "image/png": "[encoded data removed]"
          },
          "metadata": {}
        }
      ],
      "source": [
        "# Plot the top 10 frequent words\n",
        "top_words = sorted(zip(word_freq, words), reverse=True)[:10]\n",
        "top_words_freq, top_words_words = zip(*top_words)\n",
        "plt.bar(top_words_words, top_words_freq)\n",
        "plt.xlabel('Words')\n",
        "plt.ylabel('Frequency')\n",
        "plt.title('Top 10 Words in BoW Representation')\n",
        "plt.xticks(rotation=45)\n",
        "plt.show()"
      ]
    },
    {
      "cell_type": "markdown",
      "source": [
        "Conclusion : Representing text as word counts."
      ],
      "metadata": {
        "id": "bbi2NJlo96GA"
      }
    },
    {
      "cell_type": "markdown",
      "metadata": {
        "id": "HR3JrSJa5xwD"
      },
      "source": [
        "# 4.TF-IDF (Term Frequency-Inverse Document Frequency)"
      ]
    },
    {
      "cell_type": "code",
      "execution_count": 12,
      "metadata": {
        "colab": {
          "base_uri": "https://localhost:8080/"
        },
        "id": "u6Y0_oQm5S56",
        "outputId": "16f7ce61-9c41-487e-e2aa-0fb4fdc07ebc"
      },
      "outputs": [
        {
          "output_type": "stream",
          "name": "stderr",
          "text": [
            "/usr/local/lib/python3.11/dist-packages/sklearn/feature_extraction/text.py:517: UserWarning: The parameter 'token_pattern' will not be used since 'tokenizer' is not None'\n",
            "  warnings.warn(\n"
          ]
        }
      ],
      "source": [
        "#Apply TF-IDF transformation\n",
        "tfidf_vectorizer = TfidfVectorizer(analyzer='word',tokenizer=lambda doc: doc, lowercase=False)\n",
        "X_tfidf = tfidf_vectorizer.fit_transform(processed_texts)"
      ]
    },
    {
      "cell_type": "code",
      "execution_count": 13,
      "metadata": {
        "id": "LvgktXGe5S3C"
      },
      "outputs": [],
      "source": [
        "# Convert the matrix to a DataFrame to inspect it\n",
        "tfidf_df = pd.DataFrame(X_tfidf.toarray(), columns=tfidf_vectorizer.get_feature_names_out())"
      ]
    },
    {
      "cell_type": "code",
      "execution_count": 14,
      "metadata": {
        "colab": {
          "base_uri": "https://localhost:8080/"
        },
        "id": "CNMFZ2II54pm",
        "outputId": "c78cfae3-730a-4d8d-d3b3-0d35131eac7b"
      },
      "outputs": [
        {
          "output_type": "stream",
          "name": "stdout",
          "text": [
            "   absolute  absolutely  absolutley  accident  accommodations  accomodate  \\\n",
            "0       0.0         0.0         0.0       0.0             0.0         0.0   \n",
            "1       0.0         0.0         0.0       0.0             0.0         0.0   \n",
            "2       0.0         0.0         0.0       0.0             0.0         0.0   \n",
            "3       0.0         0.0         0.0       0.0             0.0         0.0   \n",
            "4       0.0         0.0         0.0       0.0             0.0         0.0   \n",
            "\n",
            "   accordingly  accountant  ache  acknowledged  ...  yelpers  yet  youd  \\\n",
            "0          0.0         0.0   0.0           0.0  ...      0.0  0.0   0.0   \n",
            "1          0.0         0.0   0.0           0.0  ...      0.0  0.0   0.0   \n",
            "2          0.0         0.0   0.0           0.0  ...      0.0  0.0   0.0   \n",
            "3          0.0         0.0   0.0           0.0  ...      0.0  0.0   0.0   \n",
            "4          0.0         0.0   0.0           0.0  ...      0.0  0.0   0.0   \n",
            "\n",
            "   youll  youre  yucky  yukon  yum  yummy  zero  \n",
            "0    0.0    0.0    0.0    0.0  0.0    0.0   0.0  \n",
            "1    0.0    0.0    0.0    0.0  0.0    0.0   0.0  \n",
            "2    0.0    0.0    0.0    0.0  0.0    0.0   0.0  \n",
            "3    0.0    0.0    0.0    0.0  0.0    0.0   0.0  \n",
            "4    0.0    0.0    0.0    0.0  0.0    0.0   0.0  \n",
            "\n",
            "[5 rows x 1935 columns]\n"
          ]
        }
      ],
      "source": [
        "# Inspect the first few rows of the TF-IDF matrix\n",
        "print(tfidf_df.head())"
      ]
    },
    {
      "cell_type": "code",
      "execution_count": 15,
      "metadata": {
        "id": "CT5xHPBv54ky"
      },
      "outputs": [],
      "source": [
        "# Analyze the importance of words\n",
        "tfidf_values = np.array(X_tfidf.sum(axis=0)).flatten()\n",
        "words = tfidf_vectorizer.get_feature_names_out()"
      ]
    },
    {
      "cell_type": "code",
      "execution_count": 16,
      "metadata": {
        "colab": {
          "base_uri": "https://localhost:8080/",
          "height": 503
        },
        "id": "XECkLLF354hu",
        "outputId": "510165d7-c3f6-4ca8-e5e7-13410f05a508"
      },
      "outputs": [
        {
          "output_type": "display_data",
          "data": {
            "text/plain": [
              "<Figure size 640x480 with 1 Axes>"
            ],
            "image/png": "[encoded data removed]"
          },
          "metadata": {}
        }
      ],
      "source": [
        "# Plot the top 10 words by TF-IDF score\n",
        "top_tfidf = sorted(zip(tfidf_values, words), reverse=True)[:10]\n",
        "top_tfidf_scores, top_tfidf_words = zip(*top_tfidf)\n",
        "plt.bar(top_tfidf_words, top_tfidf_scores)\n",
        "plt.xlabel('Words')\n",
        "plt.ylabel('TF-IDF Score')\n",
        "plt.title('Top 10 Words by TF-IDF Score')\n",
        "plt.xticks(rotation=45)\n",
        "plt.show()"
      ]
    },
    {
      "cell_type": "markdown",
      "source": [
        "Conclusion : Highlights important words by considering frequency and document relevance.\n"
      ],
      "metadata": {
        "id": "-RA7rCCE-dS9"
      }
    },
    {
      "cell_type": "markdown",
      "metadata": {
        "id": "9RGQbUK56LmW"
      },
      "source": [
        "# 5.Word2Vec"
      ]
    },
    {
      "cell_type": "code",
      "execution_count": 17,
      "metadata": {
        "id": "DJPrp75I54fM"
      },
      "outputs": [],
      "source": [
        "# Train a Word2Vec model using Gensim\n",
        "model_w2v = Word2Vec(sentences=processed_texts, vector_size=100, window=5, min_count=1, sg=0)"
      ]
    },
    {
      "cell_type": "code",
      "execution_count": 18,
      "metadata": {
        "id": "rWzjdiDOwBu5"
      },
      "outputs": [],
      "source": [
        "# Get vector representation for a specific word\n",
        "word_vector = model_w2v.wv['great']  # Replace 'great' with any word from the dataset"
      ]
    },
    {
      "cell_type": "code",
      "execution_count": 19,
      "metadata": {
        "id": "0DAg6kwy54Yg"
      },
      "outputs": [],
      "source": [
        "# Visualize word vectors for a few words (if available)\n",
        "words = ['great', 'good', 'tasty', 'food']  # Replace with words in your dataset\n",
        "word_vectors = [model_w2v.wv[word] for word in words]"
      ]
    },
    {
      "cell_type": "code",
      "execution_count": 20,
      "metadata": {
        "colab": {
          "base_uri": "https://localhost:8080/",
          "height": 564
        },
        "id": "bLwR68SB6rgv",
        "outputId": "5933e669-7491-4226-cb46-1a5280b15d21"
      },
      "outputs": [
        {
          "output_type": "display_data",
          "data": {
            "text/plain": [
              "<Figure size 800x600 with 1 Axes>"
            ],
            "image/png": "[encoded data removed]"
          },
          "metadata": {}
        }
      ],
      "source": [
        "# Plot word vectors\n",
        "plt.figure(figsize=(8, 6))\n",
        "for i, word in enumerate(words):\n",
        "    plt.scatter(word_vectors[i][0], word_vectors[i][1], label=word)\n",
        "plt.legend()\n",
        "plt.title('Word2Vec Word Vectors')\n",
        "plt.xlabel('Vector Dimension 1')\n",
        "plt.ylabel('Vector Dimension 2')\n",
        "plt.show()"
      ]
    },
    {
      "cell_type": "markdown",
      "source": [
        "Conclusion : Generates dense word embeddings capturing semantic relationships between words."
      ],
      "metadata": {
        "id": "wg6s0luE-jjk"
      }
    },
    {
      "cell_type": "markdown",
      "metadata": {
        "id": "FGXKmzjg7Md2"
      },
      "source": [
        "# 6.GloVe"
      ]
    },
    {
      "cell_type": "code",
      "execution_count": 21,
      "metadata": {
        "id": "iQIl_7lg6rcf"
      },
      "outputs": [],
      "source": [
        "import gensim.downloader as api"
      ]
    },
    {
      "cell_type": "code",
      "execution_count": 22,
      "metadata": {
        "colab": {
          "base_uri": "https://localhost:8080/"
        },
        "id": "omtVXeg46rYW",
        "outputId": "fb0d5616-5c2e-4979-a3cc-8236b1c24aa3"
      },
      "outputs": [
        {
          "output_type": "stream",
          "name": "stdout",
          "text": [
            "[==================================================] 100.0% 128.1/128.1MB downloaded\n"
          ]
        }
      ],
      "source": [
        "# Load the GloVe model\n",
        "glove = api.load(\"glove-wiki-gigaword-100\")  # You can change to the desired size"
      ]
    },
    {
      "cell_type": "code",
      "source": [
        "# Download GloVe 100-dimensional embeddings\n",
        "!wget http://nlp.stanford.edu/data/glove.6B.zip\n",
        "\n",
        "# Unzip the downloaded file\n",
        "!unzip glove.6B.zip"
      ],
      "metadata": {
        "colab": {
          "base_uri": "https://localhost:8080/"
        },
        "id": "BmJFsyOu6IYg",
        "outputId": "96146261-0798-41c8-bc42-01a4ca103975"
      },
      "execution_count": 27,
      "outputs": [
        {
          "output_type": "stream",
          "name": "stdout",
          "text": [
            "--2025-07-05 14:08:17--  http://nlp.stanford.edu/data/glove.6B.zip\n",
            "Resolving nlp.stanford.edu (nlp.stanford.edu)... 171.64.67.140\n",
            "Connecting to nlp.stanford.edu (nlp.stanford.edu)|171.64.67.140|:80... connected.\n",
            "HTTP request sent, awaiting response... 302 Found\n",
            "Location: https://nlp.stanford.edu/data/glove.6B.zip [following]\n",
            "--2025-07-05 14:08:17--  https://nlp.stanford.edu/data/glove.6B.zip\n",
            "Connecting to nlp.stanford.edu (nlp.stanford.edu)|171.64.67.140|:443... connected.\n",
            "HTTP request sent, awaiting response... 301 Moved Permanently\n",
            "Location: https://downloads.cs.stanford.edu/nlp/data/glove.6B.zip [following]\n",
            "--2025-07-05 14:08:17--  https://downloads.cs.stanford.edu/nlp/data/glove.6B.zip\n",
            "Resolving downloads.cs.stanford.edu (downloads.cs.stanford.edu)... 171.64.64.22\n",
            "Connecting to downloads.cs.stanford.edu (downloads.cs.stanford.edu)|171.64.64.22|:443... connected.\n",
            "HTTP request sent, awaiting response... 200 OK\n",
            "Length: 862182613 (822M) [application/zip]\n",
            "Saving to: ‘glove.6B.zip’\n",
            "\n",
            "glove.6B.zip        100%[===================>] 822.24M  5.02MB/s    in 2m 39s  \n",
            "\n",
            "2025-07-05 14:10:57 (5.17 MB/s) - ‘glove.6B.zip’ saved [862182613/862182613]\n",
            "\n",
            "Archive:  glove.6B.zip\n",
            "  inflating: glove.6B.50d.txt        \n",
            "  inflating: glove.6B.100d.txt       \n",
            "  inflating: glove.6B.200d.txt       \n",
            "  inflating: glove.6B.300d.txt       \n"
          ]
        }
      ]
    },
    {
      "cell_type": "code",
      "source": [
        "# Define a function to load GloVe embeddings into a dictionary\n",
        "def load_glove_embeddings(glove_file_path):\n",
        "    embeddings = {}\n",
        "    with open(glove_file_path, 'r', encoding='utf-8') as file:\n",
        "        for line in file:\n",
        "            values = line.split()\n",
        "            word = values[0]\n",
        "            vector = np.array(values[1:], dtype='float32')\n",
        "            embeddings[word] = vector\n",
        "    return embeddings"
      ],
      "metadata": {
        "id": "Oc92VFNw6IV4"
      },
      "execution_count": 28,
      "outputs": []
    },
    {
      "cell_type": "code",
      "source": [
        "# Load the 100-dimensional GloVe embeddings\n",
        "glove_embeddings = load_glove_embeddings('glove.6B.100d.txt')"
      ],
      "metadata": {
        "id": "E2MZtkc36IS0"
      },
      "execution_count": 29,
      "outputs": []
    },
    {
      "cell_type": "code",
      "source": [
        "# Load the 100-dimensional GloVe embeddings\n",
        "glove_embeddings = load_glove_embeddings('glove.6B.100d.txt')"
      ],
      "metadata": {
        "id": "YrtBFWf16IQg"
      },
      "execution_count": null,
      "outputs": []
    },
    {
      "cell_type": "code",
      "source": [
        "# Example: Get the vector for a specific word\n",
        "word = \"food\"\n",
        "vector = glove_embeddings.get(word, None)\n",
        "print(f\"Vector for '{word}':\\n\", vector)"
      ],
      "metadata": {
        "colab": {
          "base_uri": "https://localhost:8080/"
        },
        "id": "6q_IfUjf6INT",
        "outputId": "c8c67eb1-b6ba-424b-baef-41aa6e77b6b0"
      },
      "execution_count": 30,
      "outputs": [
        {
          "output_type": "stream",
          "name": "stdout",
          "text": [
            "Vector for 'food':\n",
            " [-1.6486e-01  9.1997e-01  2.2737e-01 -4.9031e-01 -1.8082e-03 -3.3803e-01\n",
            "  5.7221e-02  1.4601e-01  4.0202e-01 -2.8858e-01 -4.7495e-01 -5.6369e-01\n",
            "  2.7037e-01  5.1702e-01 -1.1241e-01  1.8314e-01  2.2066e-01 -4.8606e-01\n",
            " -8.7284e-01 -6.2587e-02  4.3016e-02  2.3641e-01  5.9705e-01 -3.8640e-01\n",
            " -2.5194e-01  9.6862e-01 -4.3112e-01 -4.8370e-01 -1.1396e+00  9.2425e-02\n",
            " -1.1476e-01 -7.4291e-02 -6.2524e-02 -9.5122e-02 -2.2714e-01  8.8291e-01\n",
            "  3.9978e-01  7.6631e-01 -6.7697e-01 -6.2829e-01 -1.1872e-01 -2.4492e-01\n",
            " -5.8893e-01 -8.5088e-01  1.1107e+00  4.2190e-01 -1.5072e+00 -1.9509e-01\n",
            " -2.6712e-01 -7.0801e-01  5.5075e-01 -4.6929e-02 -2.5203e-01  7.4411e-01\n",
            " -1.8325e-01 -1.4885e+00 -4.6393e-01 -1.0338e-01  2.3525e+00 -1.5421e-01\n",
            "  3.9833e-01  1.5344e-02  8.0708e-02 -2.7373e-01  9.7057e-01 -1.9383e-02\n",
            "  2.0899e-01 -6.4033e-01  9.2509e-01 -4.5371e-01 -7.0564e-01 -1.6033e-01\n",
            " -7.1761e-02  6.2856e-01  3.5732e-01  8.8802e-01 -6.9127e-01  4.9634e-02\n",
            " -9.3347e-01  6.5396e-01  3.7165e-01  5.8363e-02 -1.0152e+00  7.0845e-01\n",
            " -1.3542e+00 -3.6390e-01  2.5994e-01 -1.8260e-01 -9.8930e-01 -4.4699e-01\n",
            "  8.5016e-01  9.4532e-02  3.7019e-01 -5.0354e-01 -1.2083e+00 -3.5776e-01\n",
            "  2.3899e-01 -6.7904e-02  1.5072e+00  6.0889e-01]\n"
          ]
        }
      ]
    },
    {
      "cell_type": "code",
      "source": [
        "from sklearn.metrics.pairwise import cosine_similarity\n",
        "def cosine_sim(a, b):\n",
        "    return cosine_similarity([a], [b])[0][0]"
      ],
      "metadata": {
        "id": "UppckzlD6IKg"
      },
      "execution_count": 32,
      "outputs": []
    },
    {
      "cell_type": "code",
      "source": [
        "# Example: Calculate cosine similarity between two words\n",
        "word1 = \"food\"\n",
        "word2 = \"good\"\n",
        "\n",
        "vector1 = glove_embeddings.get(word1, None)\n",
        "vector2 = glove_embeddings.get(word2, None)\n",
        "\n",
        "if vector1 is not None and vector2 is not None:\n",
        "    similarity = cosine_sim(vector1, vector2)\n",
        "    print(f\"Cosine similarity between '{word1}' and '{word2}': {similarity}\")\n",
        "else:\n",
        "    print(\"Word(s) not found in GloVe embeddings.\")"
      ],
      "metadata": {
        "colab": {
          "base_uri": "https://localhost:8080/"
        },
        "id": "3ZmEfVb68ABl",
        "outputId": "13902279-17bb-45c7-80a6-4230acd11b12"
      },
      "execution_count": 35,
      "outputs": [
        {
          "output_type": "stream",
          "name": "stdout",
          "text": [
            "Cosine similarity between 'food' and 'good': 0.5021809935569763\n"
          ]
        }
      ]
    },
    {
      "cell_type": "markdown",
      "source": [
        "Conclusion : Uses global word co-occurrence statistics to generate word embeddings.This method effectively encodes both semantic and syntactic relationships, offering a comprehensive view of word meanings based on their broad usage patterns"
      ],
      "metadata": {
        "id": "Y9OJpUrI9ctk"
      }
    },
    {
      "cell_type": "markdown",
      "source": [
        "# 7.FastText"
      ],
      "metadata": {
        "id": "ljJwUZZU8alc"
      }
    },
    {
      "cell_type": "code",
      "source": [
        "# Train a FastText model using Gensim\n",
        "model_ft = FastText(sentences=processed_texts, vector_size=100, window=5, min_count=1, sg=0)\n"
      ],
      "metadata": {
        "id": "2M5iUqKX7_-8"
      },
      "execution_count": 36,
      "outputs": []
    },
    {
      "cell_type": "code",
      "source": [
        "# Get vector representation for a specific word (including subword information)\n",
        "fasttext_vector = model_ft.wv['good']"
      ],
      "metadata": {
        "id": "Aw3P78Ol7_8R"
      },
      "execution_count": 38,
      "outputs": []
    },
    {
      "cell_type": "code",
      "source": [
        " # Visualize FastText word vectors for a few words\n",
        "words = ['good', 'food', 'great', 'service']\n",
        "fasttext_vectors = [model_ft.wv[word] for word in words]\n"
      ],
      "metadata": {
        "id": "sqcnYSUN7_5T"
      },
      "execution_count": 39,
      "outputs": []
    },
    {
      "cell_type": "code",
      "source": [
        "# Plot FastText word vectors\n",
        "plt.figure(figsize=(8, 6))\n",
        "for i, word in enumerate(words):\n",
        "    plt.scatter(fasttext_vectors[i][0], fasttext_vectors[i][1], label=word)\n",
        "plt.legend()\n",
        "plt.title('FastText Word Vectors')\n",
        "plt.xlabel('Vector Dimension 1')\n",
        "plt.ylabel('Vector Dimension 2')\n",
        "plt.show()"
      ],
      "metadata": {
        "colab": {
          "base_uri": "https://localhost:8080/",
          "height": 564
        },
        "id": "-j6jyutp7_1g",
        "outputId": "8cb78e1b-7096-4d40-850d-ce3e3f4ce429"
      },
      "execution_count": 40,
      "outputs": [
        {
          "output_type": "display_data",
          "data": {
            "text/plain": [
              "<Figure size 800x600 with 1 Axes>"
            ],
            "image/png": "[encoded data removed]"
          },
          "metadata": {}
        }
      ]
    },
    {
      "cell_type": "markdown",
      "source": [
        "Conclusion : Enhances word embeddings by considering subword information, improving performance on rare words.\n"
      ],
      "metadata": {
        "id": "MoyhmhSk-rAc"
      }
    },
    {
      "cell_type": "code",
      "source": [],
      "metadata": {
        "id": "iMWs5G3j-vs3"
      },
      "execution_count": null,
      "outputs": []
    }
  ],
  "metadata": {
    "colab": {
      "provenance": []
    },
    "kernelspec": {
      "display_name": "Python 3",
      "name": "python3"
    },
    "language_info": {
      "name": "python"
    }
  },
  "nbformat": 4,
  "nbformat_minor": 0
}